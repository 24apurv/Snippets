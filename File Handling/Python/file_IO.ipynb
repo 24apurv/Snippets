{
  "nbformat": 4,
  "nbformat_minor": 0,
  "metadata": {
    "colab": {
      "name": "Python-file-IO.ipynb",
      "provenance": [],
      "authorship_tag": "ABX9TyMUG2LyfBBxtCVe38kF871f",
      "include_colab_link": true
    },
    "kernelspec": {
      "name": "python3",
      "display_name": "Python 3"
    }
  },
  "cells": [
    {
      "cell_type": "markdown",
      "metadata": {
        "id": "view-in-github",
        "colab_type": "text"
      },
      "source": [
        "<a href=\"https://colab.research.google.com/github/namhsuya/Snippets/blob/main/file_IO.ipynb\" target=\"_parent\"><img src=\"https://colab.research.google.com/assets/colab-badge.svg\" alt=\"Open In Colab\"/></a>"
      ]
    },
    {
      "cell_type": "markdown",
      "metadata": {
        "id": "lv9fI3AuHQ7v"
      },
      "source": [
        "### **Python File I/O**\n",
        "File operations usually takes place in the given order:\n",
        "\n",
        "1. Open a file\n",
        "2. Read or write (perform operation)\n",
        "3. Close the file\n",
        "\n"
      ]
    },
    {
      "cell_type": "code",
      "metadata": {
        "id": "n18k8rlwHS7s"
      },
      "source": [
        "# Opening files in Python with built-in function open()\n",
        "file = open(\"file.txt\")    # open file in present working directory\n",
        "#file = open(\"path/to/file.txt\")  # specifying the full path of the file to open"
      ],
      "execution_count": 28,
      "outputs": []
    },
    {
      "cell_type": "markdown",
      "metadata": {
        "id": "y9y0_3FxH3Cq"
      },
      "source": [
        "We can specify the mode while opening a file. In mode, we specify whether we want to read ***r***, write ***w*** or append ***a*** to the file. We can also specify if we want to open the file in text mode or binary mode.\n",
        "\n",
        "Mode\tDescription\n",
        "* **r**\t- Opens a file for reading. (default)\n",
        "* **w**\t- Opens a file for writing. Creates a new file if it does not exist or truncates the file if it exists.\n",
        "* **x**\t- Opens a file for exclusive creation. If the file already exists, the operation fails.\n",
        "* **a**\t- Opens a file for appending at the end of the file without truncating it. Creates a new file if it does not exist.\n",
        "* **t**\t- Opens in text mode. (default)\n",
        "* **b**\t- Opens in binary mode.\n",
        "* **+**\t- Opens a file for updating (reading and writing)"
      ]
    },
    {
      "cell_type": "code",
      "metadata": {
        "id": "DKNrmt2kIVU3"
      },
      "source": [
        "file = open(\"file.txt\")      # equivalent to 'r' or 'rt' modes\n",
        "file = open(\"file.txt\",'w')  # open in text mode\n",
        "file = open(\"image.bmp\",'r+b') # read and write in binary mode"
      ],
      "execution_count": 29,
      "outputs": []
    },
    {
      "cell_type": "code",
      "metadata": {
        "id": "l3JIPln4Igkq"
      },
      "source": [
        "# Closing files in Python\n",
        "file = open(\"file.txt\")\n",
        "# file closing operation\n",
        "file.close()"
      ],
      "execution_count": 30,
      "outputs": []
    },
    {
      "cell_type": "code",
      "metadata": {
        "id": "EidhPelXIq-1"
      },
      "source": [
        "# Writing to files in Python\n",
        "with open(\"text.txt\",'w',encoding = 'utf-8') as f:\n",
        "   f.write(\"First file of\\n\")\n",
        "   f.write(\"this file is made up of\\n\\n\")\n",
        "   f.write(\"four\\n\")\n",
        "   f.write(\"lines...\\n\")"
      ],
      "execution_count": 31,
      "outputs": []
    },
    {
      "cell_type": "code",
      "metadata": {
        "id": "NZMnRLPUJUQt",
        "outputId": "df24759c-c139-4031-b133-be6f500b6d75",
        "colab": {
          "base_uri": "https://localhost:8080/",
          "height": 35
        }
      },
      "source": [
        "# Reading from files in Python\n",
        "file = open(\"text.txt\",'r')\n",
        "file.read(5)"
      ],
      "execution_count": 32,
      "outputs": [
        {
          "output_type": "execute_result",
          "data": {
            "application/vnd.google.colaboratory.intrinsic+json": {
              "type": "string"
            },
            "text/plain": [
              "'First'"
            ]
          },
          "metadata": {
            "tags": []
          },
          "execution_count": 32
        }
      ]
    },
    {
      "cell_type": "code",
      "metadata": {
        "id": "8FumaRuJJXKy",
        "outputId": "6bf46a08-9b03-4c1c-8ffd-d157c8783827",
        "colab": {
          "base_uri": "https://localhost:8080/",
          "height": 123
        }
      },
      "source": [
        "print(file.read())  # read the entire file"
      ],
      "execution_count": 33,
      "outputs": [
        {
          "output_type": "stream",
          "text": [
            " file of\n",
            "this file is made up of\n",
            "\n",
            "four\n",
            "lines...\n",
            "\n"
          ],
          "name": "stdout"
        }
      ]
    },
    {
      "cell_type": "code",
      "metadata": {
        "id": "trtJdws8JcGB",
        "outputId": "22ae10b1-b726-4c37-d1bc-9d250bdf94ec",
        "colab": {
          "base_uri": "https://localhost:8080/",
          "height": 35
        }
      },
      "source": [
        "file = open(\"text.txt\",'r')\n",
        "file.readline() # Reading first line"
      ],
      "execution_count": 34,
      "outputs": [
        {
          "output_type": "execute_result",
          "data": {
            "application/vnd.google.colaboratory.intrinsic+json": {
              "type": "string"
            },
            "text/plain": [
              "'First file of\\n'"
            ]
          },
          "metadata": {
            "tags": []
          },
          "execution_count": 34
        }
      ]
    },
    {
      "cell_type": "code",
      "metadata": {
        "id": "vqEtUliXJf3O",
        "outputId": "49dcc2be-aae5-43b6-aa7c-f67a6737b74a",
        "colab": {
          "base_uri": "https://localhost:8080/",
          "height": 34
        }
      },
      "source": [
        "file = open(\"text.txt\",'r')\n",
        "file.readlines() # Reading all lines at a time"
      ],
      "execution_count": 35,
      "outputs": [
        {
          "output_type": "execute_result",
          "data": {
            "text/plain": [
              "['First file of\\n', 'this file is made up of\\n', '\\n', 'four\\n', 'lines...\\n']"
            ]
          },
          "metadata": {
            "tags": []
          },
          "execution_count": 35
        }
      ]
    }
  ]
}
